{
 "cells": [
  {
   "cell_type": "code",
   "execution_count": 1,
   "metadata": {
    "collapsed": true
   },
   "outputs": [],
   "source": [
    "import os\n",
    "os.environ[\"CUDA_VISIBLE_DEVICES\"]=\"0,1,2,3,4,5,6,7\"\n",
    "\n",
    "import torch\n",
    "import torch.nn as nn\n",
    "import torch.utils as utils\n",
    "import torch.nn.init as init\n",
    "from torch.autograd import Variable\n",
    "import torchvision.utils as v_utils\n",
    "import torchvision.datasets as dset\n",
    "import torchvision.transforms as transforms\n",
    "import numpy as np\n",
    "import matplotlib.pyplot as plt\n",
    "from collections import OrderedDict"
   ]
  },
  {
   "cell_type": "code",
   "execution_count": 2,
   "metadata": {
    "collapsed": true
   },
   "outputs": [],
   "source": [
    "epoch = 1\n",
    "batch_size = 8192\n",
    "learning_rate = 0.0002\n",
    "num_gpus = 8"
   ]
  },
  {
   "cell_type": "code",
   "execution_count": 3,
   "metadata": {},
   "outputs": [],
   "source": [
    "# Download Data\n",
    "\n",
    "mnist_train = dset.MNIST(\"./\", train=True, \n",
    "                         transform=transforms.Compose([\n",
    "                             transforms.ToTensor(),\n",
    "                             transforms.Normalize((0.5, 0.5, 0.5), (0.5, 0.5, 0.5)),\n",
    "                        ]),\n",
    "                        target_transform=None,\n",
    "                        download=True)\n",
    "\n",
    "mnist_test = dset.MNIST(\"./\", train=False, \n",
    "                         transform=transforms.Compose([\n",
    "                             transforms.ToTensor(),\n",
    "                             transforms.Normalize((0.5, 0.5, 0.5), (0.5, 0.5, 0.5)),\n",
    "                        ]),\n",
    "                        target_transform=None,\n",
    "                        download=True)\n",
    "\n",
    "# Set Data Loader(input pipeline)\n",
    "\n",
    "train_loader = torch.utils.data.DataLoader(dataset=mnist_train,batch_size=batch_size,shuffle=True,drop_last=True)"
   ]
  },
  {
   "cell_type": "code",
   "execution_count": 4,
   "metadata": {
    "collapsed": true
   },
   "outputs": [],
   "source": [
    "# Generator receives random noise z and create 1x28x28 image\n",
    "# we can name each layer using OrderedDict\n",
    "\n",
    "class Generator(nn.Module):\n",
    "    def __init__(self):\n",
    "        super(Generator,self).__init__()\n",
    "        self.layer1 = nn.Sequential(\n",
    "             nn.Linear(100,7*7*512),\n",
    "             nn.BatchNorm1d(7*7*512),\n",
    "             nn.ReLU(),\n",
    "        )\n",
    "        self.layer2 = nn.Sequential(\n",
    "                        nn.ConvTranspose2d(512,256,3,2,1,1),\n",
    "                        nn.BatchNorm2d(256),\n",
    "                        nn.LeakyReLU(),\n",
    "                        nn.ConvTranspose2d(256,128,3,1,1),\n",
    "                        nn.BatchNorm2d(128),    \n",
    "                        nn.LeakyReLU(),\n",
    "            )\n",
    "        self.layer3 = nn.Sequential(\n",
    "                        nn.ConvTranspose2d(128,64,3,1,1),\n",
    "                        nn.BatchNorm2d(64),    \n",
    "                        nn.LeakyReLU(),\n",
    "                        nn.ConvTranspose2d(64,1,3,2,1,1),\n",
    "                        nn.Tanh()\n",
    "            )\n",
    "\n",
    "    def forward(self,z):\n",
    "        out = self.layer1(z)\n",
    "        out = out.view(out.size()[0],512,7,7)\n",
    "        out = self.layer2(out)\n",
    "        out = self.layer3(out)\n",
    "        return out"
   ]
  },
  {
   "cell_type": "code",
   "execution_count": 5,
   "metadata": {
    "collapsed": true
   },
   "outputs": [],
   "source": [
    "# Discriminator receives 1x28x28 image and returns a float number 0~1\n",
    "# we can name each layer using OrderedDict\n",
    "\n",
    "class Discriminator(nn.Module):\n",
    "    def __init__(self):\n",
    "        super(Discriminator,self).__init__()\n",
    "        self.layer1 = nn.Sequential(\n",
    "                        nn.Conv2d(1,8,3,padding=1),   # batch x 16 x 28 x 28\n",
    "                        nn.BatchNorm2d(8),    \n",
    "                        nn.LeakyReLU(),\n",
    "                        nn.Conv2d(8,16,3,stride=2,padding=1),  # batch x 32 x 28 x 28\n",
    "                        nn.BatchNorm2d(16),    \n",
    "                        nn.LeakyReLU(),\n",
    "                        #('max1',nn.MaxPool2d(2,2))   # batch x 32 x 14 x 14\n",
    "        )\n",
    "        self.layer2 = nn.Sequential(\n",
    "                        nn.Conv2d(16,32,3,stride=2,padding=1),  # batch x 64 x 14 x 14\n",
    "                        nn.BatchNorm2d(32),\n",
    "                        nn.LeakyReLU(),\n",
    "                        #nn.MaxPool2d(2,2),\n",
    "                        nn.Conv2d(32,64,3,padding=1),  # batch x 128 x 7 x 7\n",
    "                        nn.BatchNorm2d(64),\n",
    "                        nn.LeakyReLU()\n",
    "        )\n",
    "        self.fc = nn.Sequential(\n",
    "                        nn.Linear(64*7*7,1),\n",
    "                        nn.Sigmoid()\n",
    "        )\n",
    "\n",
    "    def forward(self,x):\n",
    "        out = self.layer1(x)\n",
    "        out = self.layer2(out)\n",
    "        out = out.view(out.size()[0], -1)\n",
    "        feature = out\n",
    "        out = self.fc(out)\n",
    "        return out,feature"
   ]
  },
  {
   "cell_type": "code",
   "execution_count": 6,
   "metadata": {
    "collapsed": true
   },
   "outputs": [],
   "source": [
    "# Put class objects on Multiple GPUs using \n",
    "# torch.nn.DataParallel(module, device_ids=None, output_device=None, dim=0)\n",
    "# device_ids: default all devices / output_device: default device 0 \n",
    "# along with .cuda()\n",
    "\n",
    "generator = nn.DataParallel(Generator()).cuda()\n",
    "discriminator = nn.DataParallel(Discriminator()).cuda()"
   ]
  },
  {
   "cell_type": "code",
   "execution_count": 7,
   "metadata": {
    "collapsed": true
   },
   "outputs": [],
   "source": [
    "# loss function, optimizers, and labels for training\n",
    "\n",
    "loss_func = nn.MSELoss()\n",
    "gen_optim = torch.optim.Adam(generator.parameters(), lr= 5*learning_rate,betas=(0.5,0.999))\n",
    "dis_optim = torch.optim.Adam(discriminator.parameters(), lr=learning_rate,betas=(0.5,0.999))\n",
    "\n",
    "ones_label = Variable(torch.ones(batch_size,1)).cuda()\n",
    "zeros_label = Variable(torch.zeros(batch_size,1)).cuda()\n",
    "\n",
    "def image_check(gen_fake):\n",
    "    img = gen_fake.data.numpy()\n",
    "    for i in range(2):\n",
    "        plt.imshow(img[i][0],cmap='gray')\n",
    "        plt.show()"
   ]
  },
  {
   "cell_type": "code",
   "execution_count": 8,
   "metadata": {},
   "outputs": [
    {
     "name": "stdout",
     "output_type": "stream",
     "text": [
      "\n",
      "--------model restored--------\n",
      "\n"
     ]
    }
   ],
   "source": [
    "# model restore if any\n",
    "\n",
    "try:\n",
    "    generator.load_state_dict(torch.load('./saved_model/generator.pkl'))\n",
    "    discriminator.load_state_dict(torch.load('./saved_model/discriminator.pkl'))\n",
    "    print(\"\\n--------model restored--------\\n\")\n",
    "except:\n",
    "    print(\"\\n--------model not restored--------\\n\")\n",
    "    pass\n"
   ]
  },
  {
   "cell_type": "code",
   "execution_count": 9,
   "metadata": {
    "scrolled": false
   },
   "outputs": [
    {
     "name": "stdout",
     "output_type": "stream",
     "text": [
      "0th iteration gen_loss: \n",
      " 0.2497\n",
      "[torch.cuda.FloatTensor of size 1 (GPU 0)]\n",
      " dis_loss: \n",
      " 0.5002\n",
      "[torch.cuda.FloatTensor of size 1 (GPU 0)]\n",
      "\n"
     ]
    },
    {
     "data": {
      "image/png": "[encoded data removed]",
      "text/plain": [
       "<matplotlib.figure.Figure at 0x7f2b802f9e10>"
      ]
     },
     "metadata": {},
     "output_type": "display_data"
    },
    {
     "data": {
      "image/png": "[encoded data removed]",
      "text/plain": [
       "<matplotlib.figure.Figure at 0x7f2b8012f208>"
      ]
     },
     "metadata": {},
     "output_type": "display_data"
    }
   ],
   "source": [
    "# train\n",
    "\n",
    "for i in range(epoch):\n",
    "    for j,(image,label) in enumerate(train_loader):\n",
    "        image = Variable(image).cuda()\n",
    "        \n",
    "        # generator\n",
    "        gen_optim.zero_grad()\n",
    "        \n",
    "        z = Variable(init.normal(torch.Tensor(batch_size,100),mean=0,std=0.1)).cuda()\n",
    "        gen_fake = generator.forward(z)\n",
    "        dis_fake,_ = discriminator.forward(gen_fake)\n",
    "        \n",
    "        gen_loss = torch.sum(loss_func(dis_fake,ones_label)) # fake classified as real\n",
    "        gen_loss.backward(retain_graph=True)\n",
    "        gen_optim.step()\n",
    "    \n",
    "        # discriminator\n",
    "        dis_optim.zero_grad()\n",
    "        \n",
    "        z = Variable(init.normal(torch.Tensor(batch_size,100),mean=0,std=0.1)).cuda()\n",
    "        gen_fake = generator.forward(z)\n",
    "        dis_fake,_ = discriminator.forward(gen_fake)\n",
    "        \n",
    "        dis_real,_ = discriminator.forward(image)\n",
    "        dis_loss = torch.sum(loss_func(dis_fake,zeros_label)) + torch.sum(loss_func(dis_real,ones_label))\n",
    "        dis_loss.backward()\n",
    "        dis_optim.step()\n",
    "    \n",
    "        # model save\n",
    "        if j % 50 == 0:\n",
    "            #print(gen_loss,dis_loss)\n",
    "            torch.save(generator.state_dict(),'./saved_model/generator.pkl')\n",
    "            torch.save(discriminator.state_dict(),'./saved_model/discriminator.pkl')\n",
    "\n",
    "\n",
    "            print(\"{}th iteration gen_loss: {} dis_loss: {}\".format(i,gen_loss.data,dis_loss.data))\n",
    "            v_utils.save_image(gen_fake.data[0:25],\"./result/gen_{}_{}.png\".format(i,j), nrow=5)\n",
    "            \n",
    "    image_check(gen_fake.cpu())"
   ]
  },
  {
   "cell_type": "markdown",
   "metadata": {},
   "source": [
    "## latent Z optimization"
   ]
  },
  {
   "cell_type": "code",
   "execution_count": 60,
   "metadata": {
    "collapsed": true
   },
   "outputs": [],
   "source": [
    "# Lambda = 0.1 according to paper\n",
    "# x is new data, G_z is closely regenerated data\n",
    "\n",
    "def Anomaly_score(x,G_z,Lambda=0.1):\n",
    "    _,x_feature = discriminator(x)\n",
    "    _,G_z_feature = discriminator(G_z)\n",
    "    \n",
    "    residual_loss = torch.sum(torch.abs(x-G_z))\n",
    "    discrimination_loss = torch.sum(torch.abs(x_feature-G_z_feature))\n",
    "    \n",
    "    total_loss = (1-Lambda)*residual_loss + Lambda*discrimination_loss\n",
    "    return total_loss"
   ]
  },
  {
   "cell_type": "code",
   "execution_count": 61,
   "metadata": {},
   "outputs": [
    {
     "data": {
      "text/plain": [
       "torch.Size([8, 1, 28, 28])"
      ]
     },
     "execution_count": 61,
     "metadata": {},
     "output_type": "execute_result"
    }
   ],
   "source": [
    "import os\n",
    "os.environ[\"CUDA_VISIBLE_DEVICES\"]=\"1\"\n",
    "\n",
    "start_idx = 64\n",
    "test_size = 8\n",
    "\n",
    "test_data_mnist = mnist_test.__dict__['test_data'][start_idx:start_idx+test_size]\n",
    "test_data_mnist = test_data_mnist.view(test_size,1,28,28).type_as(torch.FloatTensor())\n",
    "test_data_mnist.size()"
   ]
  },
  {
   "cell_type": "code",
   "execution_count": 62,
   "metadata": {
    "collapsed": true
   },
   "outputs": [],
   "source": [
    "generator = nn.DataParallel(Generator(),device_ids=[0])\n",
    "discriminator = nn.DataParallel(Discriminator(),device_ids=[0])\n",
    "\n",
    "#generator,discriminator"
   ]
  },
  {
   "cell_type": "code",
   "execution_count": 63,
   "metadata": {
    "scrolled": true
   },
   "outputs": [
    {
     "name": "stdout",
     "output_type": "stream",
     "text": [
      "\n",
      "--------model restored--------\n",
      "\n"
     ]
    }
   ],
   "source": [
    "# model restore if any\n",
    "\n",
    "try:\n",
    "    generator.load_state_dict(torch.load('./saved_model/generator.pkl'))\n",
    "    discriminator.load_state_dict(torch.load('./saved_model/discriminator.pkl'))\n",
    "\n",
    "    print(\"\\n--------model restored--------\\n\")\n",
    "\n",
    "except:\n",
    "    print(\"\\n--------model not restored--------\\n\")\n",
    "    pass\n",
    "\n"
   ]
  },
  {
   "cell_type": "markdown",
   "metadata": {},
   "source": [
    "## Test with Normal(=MNIST) Data"
   ]
  },
  {
   "cell_type": "code",
   "execution_count": 64,
   "metadata": {},
   "outputs": [
    {
     "name": "stdout",
     "output_type": "stream",
     "text": [
      "Variable containing:\n",
      "1.00000e+05 *\n",
      "  2.0270\n",
      "[torch.cuda.FloatTensor of size 1 (GPU 0)]\n",
      "\n"
     ]
    }
   ],
   "source": [
    "z = Variable(init.normal(torch.zeros(test_size,100),mean=0,std=0.1),requires_grad=True)\n",
    "z_optimizer = torch.optim.Adam([z],lr=1e-4)\n",
    "\n",
    "gen_fake = generator(z.cuda())\n",
    "loss = Anomaly_score(Variable(test_data_mnist).cuda(),gen_fake)\n",
    "print(loss)"
   ]
  },
  {
   "cell_type": "code",
   "execution_count": 66,
   "metadata": {
    "scrolled": true
   },
   "outputs": [
    {
     "name": "stdout",
     "output_type": "stream",
     "text": [
      "\n",
      "1.00000e+05 *\n",
      "  2.2237\n",
      "[torch.FloatTensor of size 1]\n",
      "\n",
      "\n",
      "1.00000e+05 *\n",
      "  2.2237\n",
      "[torch.FloatTensor of size 1]\n",
      "\n",
      "\n",
      "1.00000e+05 *\n",
      "  2.2237\n",
      "[torch.FloatTensor of size 1]\n",
      "\n",
      "\n",
      "1.00000e+05 *\n",
      "  2.2237\n",
      "[torch.FloatTensor of size 1]\n",
      "\n",
      "\n",
      "1.00000e+05 *\n",
      "  2.2237\n",
      "[torch.FloatTensor of size 1]\n",
      "\n",
      "\n",
      "1.00000e+05 *\n",
      "  2.2237\n",
      "[torch.FloatTensor of size 1]\n",
      "\n",
      "\n",
      "1.00000e+05 *\n",
      "  2.2237\n",
      "[torch.FloatTensor of size 1]\n",
      "\n",
      "\n",
      "1.00000e+05 *\n",
      "  2.2237\n",
      "[torch.FloatTensor of size 1]\n",
      "\n",
      "\n",
      "1.00000e+05 *\n",
      "  2.2237\n",
      "[torch.FloatTensor of size 1]\n",
      "\n",
      "\n",
      "1.00000e+05 *\n",
      "  2.2236\n",
      "[torch.FloatTensor of size 1]\n",
      "\n",
      "\n",
      "1.00000e+05 *\n",
      "  2.2237\n",
      "[torch.FloatTensor of size 1]\n",
      "\n",
      "\n",
      "1.00000e+05 *\n",
      "  2.2236\n",
      "[torch.FloatTensor of size 1]\n",
      "\n",
      "\n",
      "1.00000e+05 *\n",
      "  2.2236\n",
      "[torch.FloatTensor of size 1]\n",
      "\n",
      "\n",
      "1.00000e+05 *\n",
      "  2.2236\n",
      "[torch.FloatTensor of size 1]\n",
      "\n",
      "\n",
      "1.00000e+05 *\n",
      "  2.2236\n",
      "[torch.FloatTensor of size 1]\n",
      "\n",
      "\n",
      "1.00000e+05 *\n",
      "  2.2236\n",
      "[torch.FloatTensor of size 1]\n",
      "\n",
      "\n",
      "1.00000e+05 *\n",
      "  2.2236\n",
      "[torch.FloatTensor of size 1]\n",
      "\n",
      "\n",
      "1.00000e+05 *\n",
      "  2.2236\n",
      "[torch.FloatTensor of size 1]\n",
      "\n",
      "\n",
      "1.00000e+05 *\n",
      "  2.2236\n",
      "[torch.FloatTensor of size 1]\n",
      "\n",
      "\n",
      "1.00000e+05 *\n",
      "  2.2236\n",
      "[torch.FloatTensor of size 1]\n",
      "\n",
      "\n",
      "1.00000e+05 *\n",
      "  2.2236\n",
      "[torch.FloatTensor of size 1]\n",
      "\n",
      "\n",
      "1.00000e+05 *\n",
      "  2.2236\n",
      "[torch.FloatTensor of size 1]\n",
      "\n",
      "\n",
      "1.00000e+05 *\n",
      "  2.2236\n",
      "[torch.FloatTensor of size 1]\n",
      "\n",
      "\n",
      "1.00000e+05 *\n",
      "  2.2236\n",
      "[torch.FloatTensor of size 1]\n",
      "\n",
      "\n",
      "1.00000e+05 *\n",
      "  2.2236\n",
      "[torch.FloatTensor of size 1]\n",
      "\n",
      "\n",
      "1.00000e+05 *\n",
      "  2.2236\n",
      "[torch.FloatTensor of size 1]\n",
      "\n",
      "\n",
      "1.00000e+05 *\n",
      "  2.2236\n",
      "[torch.FloatTensor of size 1]\n",
      "\n",
      "\n",
      "1.00000e+05 *\n",
      "  2.2235\n",
      "[torch.FloatTensor of size 1]\n",
      "\n",
      "\n",
      "1.00000e+05 *\n",
      "  2.2235\n",
      "[torch.FloatTensor of size 1]\n",
      "\n",
      "\n",
      "1.00000e+05 *\n",
      "  2.2235\n",
      "[torch.FloatTensor of size 1]\n",
      "\n",
      "\n",
      "1.00000e+05 *\n",
      "  2.2235\n",
      "[torch.FloatTensor of size 1]\n",
      "\n",
      "\n",
      "1.00000e+05 *\n",
      "  2.2235\n",
      "[torch.FloatTensor of size 1]\n",
      "\n",
      "\n",
      "1.00000e+05 *\n",
      "  2.2235\n",
      "[torch.FloatTensor of size 1]\n",
      "\n",
      "\n",
      "1.00000e+05 *\n",
      "  2.2235\n",
      "[torch.FloatTensor of size 1]\n",
      "\n",
      "\n",
      "1.00000e+05 *\n",
      "  2.2235\n",
      "[torch.FloatTensor of size 1]\n",
      "\n",
      "\n",
      "1.00000e+05 *\n",
      "  2.2235\n",
      "[torch.FloatTensor of size 1]\n",
      "\n",
      "\n",
      "1.00000e+05 *\n",
      "  2.2235\n",
      "[torch.FloatTensor of size 1]\n",
      "\n",
      "\n",
      "1.00000e+05 *\n",
      "  2.2235\n",
      "[torch.FloatTensor of size 1]\n",
      "\n",
      "\n",
      "1.00000e+05 *\n",
      "  2.2235\n",
      "[torch.FloatTensor of size 1]\n",
      "\n",
      "\n",
      "1.00000e+05 *\n",
      "  2.2235\n",
      "[torch.FloatTensor of size 1]\n",
      "\n",
      "\n",
      "1.00000e+05 *\n",
      "  2.2235\n",
      "[torch.FloatTensor of size 1]\n",
      "\n",
      "\n",
      "1.00000e+05 *\n",
      "  2.2235\n",
      "[torch.FloatTensor of size 1]\n",
      "\n",
      "\n",
      "1.00000e+05 *\n",
      "  2.2235\n",
      "[torch.FloatTensor of size 1]\n",
      "\n",
      "\n",
      "1.00000e+05 *\n",
      "  2.2235\n",
      "[torch.FloatTensor of size 1]\n",
      "\n",
      "\n",
      "1.00000e+05 *\n",
      "  2.2235\n",
      "[torch.FloatTensor of size 1]\n",
      "\n",
      "\n",
      "1.00000e+05 *\n",
      "  2.2235\n",
      "[torch.FloatTensor of size 1]\n",
      "\n",
      "\n",
      "1.00000e+05 *\n",
      "  2.2235\n",
      "[torch.FloatTensor of size 1]\n",
      "\n",
      "\n",
      "1.00000e+05 *\n",
      "  2.2235\n",
      "[torch.FloatTensor of size 1]\n",
      "\n",
      "\n",
      "1.00000e+05 *\n",
      "  2.2235\n",
      "[torch.FloatTensor of size 1]\n",
      "\n",
      "\n",
      "1.00000e+05 *\n",
      "  2.2235\n",
      "[torch.FloatTensor of size 1]\n",
      "\n"
     ]
    }
   ],
   "source": [
    "for i in range(5000):\n",
    "    gen_fake = generator(z.cuda())\n",
    "    loss = Anomaly_score(Variable(test_data_mnist).cuda(),gen_fake,Lambda=0.01)\n",
    "    loss.backward()\n",
    "    z_optimizer.step()\n",
    "    \n",
    "    if i%100==0:\n",
    "        print(loss.cpu().data)\n",
    "        '''\n",
    "        target = test_data_mnist[1,0,:,:].numpy()\n",
    "        plt.imshow(target,cmap=\"gray\")\n",
    "        plt.show()\n",
    "        \n",
    "        img=gen_fake.cpu().data[1,0,:,:].numpy()\n",
    "        plt.imshow(img,cmap='gray')\n",
    "        plt.show()\n",
    "        '''"
   ]
  },
  {
   "cell_type": "code",
   "execution_count": 67,
   "metadata": {
    "scrolled": false
   },
   "outputs": [
    {
     "data": {
      "image/png": "[encoded data removed]",
      "text/plain": [
       "<matplotlib.figure.Figure at 0x7f2b7805c438>"
      ]
     },
     "metadata": {},
     "output_type": "display_data"
    },
    {
     "name": "stdout",
     "output_type": "stream",
     "text": [
      "real data\n"
     ]
    },
    {
     "data": {
      "image/png": "[encoded data removed]",
      "text/plain": [
       "<matplotlib.figure.Figure at 0x7f2b78042668>"
      ]
     },
     "metadata": {},
     "output_type": "display_data"
    },
    {
     "name": "stdout",
     "output_type": "stream",
     "text": [
      "generated data\n",
      "\n",
      "------------------------------------\n",
      "\n"
     ]
    },
    {
     "data": {
      "image/png": "[encoded data removed]",
      "text/plain": [
       "<matplotlib.figure.Figure at 0x7f2b7f5619e8>"
      ]
     },
     "metadata": {},
     "output_type": "display_data"
    },
    {
     "name": "stdout",
     "output_type": "stream",
     "text": [
      "real data\n"
     ]
    },
    {
     "data": {
      "image/png": "[encoded data removed]",
      "text/plain": [
       "<matplotlib.figure.Figure at 0x7f2b802857b8>"
      ]
     },
     "metadata": {},
     "output_type": "display_data"
    },
    {
     "name": "stdout",
     "output_type": "stream",
     "text": [
      "generated data\n",
      "\n",
      "------------------------------------\n",
      "\n"
     ]
    },
    {
     "data": {
      "image/png": "[encoded data removed]",
      "text/plain": [
       "<matplotlib.figure.Figure at 0x7f2b802430b8>"
      ]
     },
     "metadata": {},
     "output_type": "display_data"
    },
    {
     "name": "stdout",
     "output_type": "stream",
     "text": [
      "real data\n"
     ]
    },
    {
     "data": {
      "image/png": "[encoded data removed]",
      "text/plain": [
       "<matplotlib.figure.Figure at 0x7f2b78077080>"
      ]
     },
     "metadata": {},
     "output_type": "display_data"
    },
    {
     "name": "stdout",
     "output_type": "stream",
     "text": [
      "generated data\n",
      "\n",
      "------------------------------------\n",
      "\n"
     ]
    },
    {
     "data": {
      "image/png": "[encoded data removed]",
      "text/plain": [
       "<matplotlib.figure.Figure at 0x7f2b802943c8>"
      ]
     },
     "metadata": {},
     "output_type": "display_data"
    },
    {
     "name": "stdout",
     "output_type": "stream",
     "text": [
      "real data\n"
     ]
    },
    {
     "data": {
      "image/png": "[encoded data removed]",
      "text/plain": [
       "<matplotlib.figure.Figure at 0x7f2bdc0a73c8>"
      ]
     },
     "metadata": {},
     "output_type": "display_data"
    },
    {
     "name": "stdout",
     "output_type": "stream",
     "text": [
      "generated data\n",
      "\n",
      "------------------------------------\n",
      "\n"
     ]
    },
    {
     "data": {
      "image/png": "[encoded data removed]",
      "text/plain": [
       "<matplotlib.figure.Figure at 0x7f2b72fdd5c0>"
      ]
     },
     "metadata": {},
     "output_type": "display_data"
    },
    {
     "name": "stdout",
     "output_type": "stream",
     "text": [
      "real data\n"
     ]
    },
    {
     "data": {
      "image/png": "[encoded data removed]",
      "text/plain": [
       "<matplotlib.figure.Figure at 0x7f2b7f64abe0>"
      ]
     },
     "metadata": {},
     "output_type": "display_data"
    },
    {
     "name": "stdout",
     "output_type": "stream",
     "text": [
      "generated data\n",
      "\n",
      "------------------------------------\n",
      "\n"
     ]
    },
    {
     "data": {
      "image/png": "[encoded data removed]",
      "text/plain": [
       "<matplotlib.figure.Figure at 0x7f2b780d6ef0>"
      ]
     },
     "metadata": {},
     "output_type": "display_data"
    },
    {
     "name": "stdout",
     "output_type": "stream",
     "text": [
      "real data\n"
     ]
    },
    {
     "data": {
      "image/png": "[encoded data removed]",
      "text/plain": [
       "<matplotlib.figure.Figure at 0x7f2b7f59c780>"
      ]
     },
     "metadata": {},
     "output_type": "display_data"
    },
    {
     "name": "stdout",
     "output_type": "stream",
     "text": [
      "generated data\n",
      "\n",
      "------------------------------------\n",
      "\n"
     ]
    },
    {
     "data": {
      "image/png": "[encoded data removed]",
      "text/plain": [
       "<matplotlib.figure.Figure at 0x7f2b800caeb8>"
      ]
     },
     "metadata": {},
     "output_type": "display_data"
    },
    {
     "name": "stdout",
     "output_type": "stream",
     "text": [
      "real data\n"
     ]
    },
    {
     "data": {
      "image/png": "[encoded data removed]",
      "text/plain": [
       "<matplotlib.figure.Figure at 0x7f2b800dcc50>"
      ]
     },
     "metadata": {},
     "output_type": "display_data"
    },
    {
     "name": "stdout",
     "output_type": "stream",
     "text": [
      "generated data\n",
      "\n",
      "------------------------------------\n",
      "\n"
     ]
    },
    {
     "data": {
      "image/png": "[encoded data removed]",
      "text/plain": [
       "<matplotlib.figure.Figure at 0x7f2b7f624c88>"
      ]
     },
     "metadata": {},
     "output_type": "display_data"
    },
    {
     "name": "stdout",
     "output_type": "stream",
     "text": [
      "real data\n"
     ]
    },
    {
     "data": {
      "image/png": "[encoded data removed]",
      "text/plain": [
       "<matplotlib.figure.Figure at 0x7f2b837941d0>"
      ]
     },
     "metadata": {},
     "output_type": "display_data"
    },
    {
     "name": "stdout",
     "output_type": "stream",
     "text": [
      "generated data\n",
      "\n",
      "------------------------------------\n",
      "\n"
     ]
    }
   ],
   "source": [
    "for idx in range(test_size):\n",
    "    target = test_data_mnist[idx,0,:,:].numpy()\n",
    "    plt.imshow(target,cmap=\"gray\")\n",
    "    plt.show()\n",
    "    print(\"real data\")\n",
    "\n",
    "    img=gen_fake.cpu().data[idx,0,:,:].numpy()\n",
    "    plt.imshow(img,cmap='gray')\n",
    "    plt.show()\n",
    "    print(\"generated data\")\n",
    "    print(\"\\n------------------------------------\\n\")"
   ]
  },
  {
   "cell_type": "code",
   "execution_count": null,
   "metadata": {
    "collapsed": true
   },
   "outputs": [],
   "source": []
  }
 ],
 "metadata": {
  "kernelspec": {
   "display_name": "Python 3",
   "language": "python",
   "name": "python3"
  },
  "language_info": {
   "codemirror_mode": {
    "name": "ipython",
    "version": 3
   },
   "file_extension": ".py",
   "mimetype": "text/x-python",
   "name": "python",
   "nbconvert_exporter": "python",
   "pygments_lexer": "ipython3",
   "version": "3.6.4"
  }
 },
 "nbformat": 4,
 "nbformat_minor": 2
}
